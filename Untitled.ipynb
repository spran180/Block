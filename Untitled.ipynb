{
 "cells": [
  {
   "cell_type": "code",
   "execution_count": 1,
   "id": "9638e027",
   "metadata": {},
   "outputs": [
    {
     "name": "stdout",
     "output_type": "stream",
     "text": [
      " * Serving Flask app '__main__'\n",
      " * Debug mode: on\n"
     ]
    },
    {
     "name": "stderr",
     "output_type": "stream",
     "text": [
      "WARNING: This is a development server. Do not use it in a production deployment. Use a production WSGI server instead.\n",
      " * Running on http://127.0.0.1:5000\n",
      "Press CTRL+C to quit\n",
      " * Restarting with watchdog (windowsapi)\n"
     ]
    },
    {
     "ename": "SystemExit",
     "evalue": "1",
     "output_type": "error",
     "traceback": [
      "An exception has occurred, use %tb to see the full traceback.\n",
      "\u001b[1;31mSystemExit\u001b[0m\u001b[1;31m:\u001b[0m 1\n"
     ]
    },
    {
     "name": "stderr",
     "output_type": "stream",
     "text": [
      "C:\\ProgramData\\anaconda3\\lib\\site-packages\\IPython\\core\\interactiveshell.py:3468: UserWarning: To exit: use 'exit', 'quit', or Ctrl-D.\n",
      "  warn(\"To exit: use 'exit', 'quit', or Ctrl-D.\", stacklevel=1)\n"
     ]
    }
   ],
   "source": [
    "from flask import Flask, jsonify, request\n",
    "\n",
    "app = Flask(__name__)\n",
    "\n",
    "resumes = [\n",
    "    {\n",
    "        'id': 1,\n",
    "        'name': 'John Doe',\n",
    "        'title': 'Software Developer',\n",
    "        'skills': ['Python', 'JavaScript', 'HTML', 'CSS'],\n",
    "        'experience': '5 years',\n",
    "    },\n",
    "    {\n",
    "        'id': 2,\n",
    "        'name': 'Jane Smith',\n",
    "        'title': 'UX Designer',\n",
    "        'skills': ['UI/UX Design', 'Wireframing', 'Prototyping'],\n",
    "        'experience': '3 years',\n",
    "    },\n",
    "    # Add more resumes as needed\n",
    "]\n",
    "\n",
    "@app.route('/resumes', methods=['GET'])\n",
    "def get_resumes():\n",
    "    return jsonify({'resumes': resumes})\n",
    "\n",
    "@app.route('/resumes/<int:resume_id>', methods=['GET'])\n",
    "def get_resume(resume_id):\n",
    "    resume = next((r for r in resumes if r['id'] == resume_id), None)\n",
    "    if resume:\n",
    "        return jsonify({'resume': resume})\n",
    "    else:\n",
    "        return jsonify({'error': 'Resume not found'}), 404\n",
    "\n",
    "@app.route('/resumes', methods=['POST'])\n",
    "def create_resume():\n",
    "    new_resume = {\n",
    "        'id': len(resumes) + 1,\n",
    "        'name': request.json['name'],\n",
    "        'title': request.json['title'],\n",
    "        'skills': request.json['skills'],\n",
    "        'experience': request.json['experience'],\n",
    "    }\n",
    "    resumes.append(new_resume)\n",
    "    return jsonify({'resume': new_resume}), 201\n",
    "\n",
    "if __name__ == '__main__':\n",
    "    app.run(debug=True)"
   ]
  },
  {
   "cell_type": "code",
   "execution_count": 8,
   "id": "0a0d3eb9",
   "metadata": {},
   "outputs": [],
   "source": [
    "%run app.py\n"
   ]
  },
  {
   "cell_type": "code",
   "execution_count": 7,
   "id": "935b8d82",
   "metadata": {},
   "outputs": [],
   "source": [
    "%run app.py"
   ]
  },
  {
   "cell_type": "code",
   "execution_count": 9,
   "id": "46926d85",
   "metadata": {},
   "outputs": [],
   "source": [
    "from flask import Flask, jsonify, request\n",
    "\n",
    "app = Flask(__name__)\n",
    "\n",
    "resumes = [\n",
    "    {\n",
    "        'id': 1,\n",
    "        'name': 'John Doe',\n",
    "        'title': 'Software Developer',\n",
    "        'skills': ['Python', 'JavaScript', 'HTML', 'CSS'],\n",
    "        'experience': '5 years',\n",
    "    },\n",
    "    {\n",
    "        'id': 2,\n",
    "        'name': 'Jane Smith',\n",
    "        'title': 'UX Designer',\n",
    "        'skills': ['UI/UX Design', 'Wireframing', 'Prototyping'],\n",
    "        'experience': '3 years',\n",
    "    },\n",
    "    # Add more resumes as needed\n",
    "]\n",
    "\n",
    "@app.route('/resumes', methods=['GET'])\n",
    "def get_resumes():\n",
    "    return jsonify({'resumes': resumes})\n",
    "\n",
    "@app.route('/resumes/<int:resume_id>', methods=['GET'])\n",
    "def get_resume(resume_id):\n",
    "    resume = next((r for r in resumes if r['id'] == resume_id), None)\n",
    "    if resume:\n",
    "        return jsonify({'resume': resume})\n",
    "    else:\n",
    "        return jsonify({'error': 'Resume not found'}), 404\n",
    "\n",
    "@app.route('/resumes', methods=['POST'])\n",
    "def create_resume():\n",
    "    new_resume = {\n",
    "        'id': len(resumes) + 1,\n",
    "        'name': request.json['name'],\n",
    "        'title': request.json['title'],\n",
    "        'skills': request.json['skills'],\n",
    "        'experience': request.json['experience'],\n",
    "    }\n",
    "    resumes.append(new_resume)\n",
    "    return jsonify({'resume': new_resume}), 201"
   ]
  },
  {
   "cell_type": "code",
   "execution_count": 10,
   "id": "b7a34279",
   "metadata": {},
   "outputs": [],
   "source": [
    "%run app.py\n"
   ]
  },
  {
   "cell_type": "code",
   "execution_count": 12,
   "id": "25cf6599",
   "metadata": {},
   "outputs": [],
   "source": [
    "%run app.py\n"
   ]
  },
  {
   "cell_type": "code",
   "execution_count": null,
   "id": "e5b2eb20",
   "metadata": {},
   "outputs": [],
   "source": []
  }
 ],
 "metadata": {
  "kernelspec": {
   "display_name": "Python 3 (ipykernel)",
   "language": "python",
   "name": "python3"
  },
  "language_info": {
   "codemirror_mode": {
    "name": "ipython",
    "version": 3
   },
   "file_extension": ".py",
   "mimetype": "text/x-python",
   "name": "python",
   "nbconvert_exporter": "python",
   "pygments_lexer": "ipython3",
   "version": "3.10.9"
  }
 },
 "nbformat": 4,
 "nbformat_minor": 5
}
