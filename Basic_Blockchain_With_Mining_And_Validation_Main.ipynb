{
 "cells": [
  {
   "cell_type": "markdown",
   "metadata": {
    "id": "JguTiWzrqbhj"
   },
   "source": [
    "# <font color='blue'> Table Of Contents </font>\n",
    "\n",
    "## <font color='blue'> Code Walkthrough: Mining and Validation </font>\n",
    "\n",
    "* Introduction\n",
    "* Proof-of-Work Based Mining\n",
    "* Blockchain Validation\n",
    "* Creation and Usage"
   ]
  },
  {
   "cell_type": "markdown",
   "metadata": {
    "id": "_6wsxyDmqbhk"
   },
   "source": [
    "# <font color='blue'> Code Walkthrough: Mining and Validation </font>\n",
    "\n",
    "## <font color='blue'> Introduction </font>\n",
    "\n",
    "We'll take the code developed in the last week's session and add basic versions of Proof-of-Work based mining and blockchain validation\n",
    "\n",
    "The companion notebook 'M04W03-02-Basic-Blockchain-With-Mining-And-Validation-Source-Code' has the complete source code.\n",
    "\n",
    "\n",
    "## <font color='blue'> Proof-of-Work Based Mining </font>"
   ]
  },
  {
   "cell_type": "code",
   "execution_count": 2,
   "metadata": {
    "id": "FAX_jkfsqbhl"
   },
   "outputs": [],
   "source": [
    "import time\n",
    "import hashlib\n",
    "import json\n",
    "\n",
    "class Block:\n",
    "    # Basic block init\n",
    "    # Index: The position of the block in the chain starting with 0 for the genesis block\n",
    "    # Timestamp: Time when the block was created\n",
    "    # Transactions: Transactions included in the block\n",
    "    # Previous block hash: Block hash of the previous block\n",
    "    # Hash target: Block hash should be below this target\n",
    "    # Nonce: Variable that miners vary to hit the hash target\n",
    "    # Metadata: Any generic textual information added in the block (Optional)\n",
    "    # Block hash: Hash of the current block including all the aforementioned data\n",
    "    def __init__(self, index, transactions, previous_block_hash, hash_target, metadata=''):\n",
    "        self._index = index\n",
    "        self._timestamp = time.time()\n",
    "        self._transactions = transactions\n",
    "        self._previous_block_hash = previous_block_hash\n",
    "        self._metadata = metadata\n",
    "        self._hash_target = hash_target\n",
    "        self._nonce = 0\n",
    "        self._block_hash = None\n",
    "        self.mine_block()\n",
    "\n",
    "    def __str__(self):\n",
    "        return f'\\nBlock index: {self._index}\\nTimestamp: {self._timestamp}\\nTransactions: {self._transactions}\\nPrevious Block Hash: {self._previous_block_hash}\\nMetadata: {self._metadata}\\nHash Target: {self._hash_target}\\nNonce: {self._nonce}\\nBlock Hash: {self._block_hash}\\n'\n",
    "\n",
    "    #__repr__ is called on the individual elements (instead of __str__) \n",
    "    # if you try to print a list of the items or objects\n",
    "    def __repr__(self):\n",
    "        return self.__str__()\n",
    "\n",
    "    @property\n",
    "    def block_hash(self):\n",
    "        return self._block_hash\n",
    "\n",
    "    @property\n",
    "    def previous_block_hash(self):\n",
    "        return self._previous_block_hash\n",
    "\n",
    "    @property\n",
    "    def hash_target(self):\n",
    "        return self._hash_target\n",
    "\n",
    "    # Serializing and utf-8 encoding relevant data, and then hashing and creating a hex representation\n",
    "    def hash_block(self):\n",
    "        hash_string = '-'.join([\n",
    "                                str(self._index),\n",
    "                                str(self._timestamp),\n",
    "                                str(self._previous_block_hash),\n",
    "                                str(self._metadata),\n",
    "                                str(self._hash_target),\n",
    "                                str(self._nonce),\n",
    "                                json.dumps(self._transactions, sort_keys=True)\n",
    "                                ])\n",
    "        encoded_hash_string = hash_string.encode('utf-8')\n",
    "        #print(f'Encoded string to be hashed for block {self._index}: {encoded_hash_string}\\n\\n')\n",
    "        block_hash = hashlib.sha256(encoded_hash_string).hexdigest()\n",
    "        return block_hash\n",
    "\n",
    "    # Increasing nonce until block hash is below the hash target\n",
    "    # Ignoring for genesis block (index 0) since that block is hard-coded\n",
    "    def mine_block(self):\n",
    "        if (self._index != 0):\n",
    "            while (int(self.hash_block(), 16) > int(self._hash_target, 16)):\n",
    "                self._nonce += 1\n",
    "        self._block_hash = self.hash_block()\n",
    "        return True\n"
   ]
  },
  {
   "cell_type": "markdown",
   "metadata": {
    "id": "Ric0Uqpjqbhn"
   },
   "source": [
    "Here, we have added two new attributes:\n",
    "1. Hash target: Hash target is a hexadecimal value which forms the outer limit of a valid block hash in the proof-of-work method. Since lower target values will automatically start having zeros at the beginning, it is also explained as having a specific number of zeros at the beginning. Doing the search using hex number comparison will be faster generally than finding the number of zeros at the front using string manipulation, and it's more generic.\n",
    "2. Nonce: This is the attribute that a miner varies (generally starting from 0) to get an appropriate block hash.\n",
    "\n",
    "You'll also notice that instead of just calculating and assigning the default block hash, we are now running a mine_block method in the constructor. Normally, this would be called separately after creating a candidate block. We have added it as part of the constructor itself, just for succinctness.\n",
    "\n",
    "In the hash_block method, we have added both hash_target and nonce in the block hash generating string so that they are also unmodifiable later.\n",
    "\n",
    "The mine_block method keeps comparing the block hash with the hash_target (hex comparison) for this block. If it's not less than the target, it'll increase the nonce and try again. Once it hits a particular value which is lower than the hash, it'll exit and use that nonce to store the final block hash. The number of iterations, on average, depend on the hash target value. The lower the target, the longer it'll take. The block is now ready for publishing.\n",
    "\n",
    "\n",
    "## <font color='blue'> Blockchain Validation </font>"
   ]
  },
  {
   "cell_type": "code",
   "execution_count": 1,
   "metadata": {
    "id": "XYnAh_4Mqbhp"
   },
   "outputs": [],
   "source": [
    "class Blockchain:\n",
    "    # Basic blockchain init\n",
    "    # Includes the chain as a list of blocks in order and pending transactions\n",
    "    # Includes the current value of the hash target. It can be changed at any point to vary the difficulty\n",
    "    # Also initiates a genesis block\n",
    "    def __init__(self, hash_target):\n",
    "        self._chain = []\n",
    "        self._pending_transactions = []\n",
    "        self._chain.append(self.__create_genesis_block())\n",
    "        self._hash_target = hash_target\n",
    "\n",
    "    def __str__(self):\n",
    "        return f\"Chain:\\n{self._chain}\\n\\nPending Transactions: {self._pending_transactions}\\n\"\n",
    "\n",
    "    @property\n",
    "    def hash_target(self):\n",
    "        return self._hash_target\n",
    "\n",
    "    @hash_target.setter\n",
    "    def hash_target(self, hash_target):\n",
    "        self._hash_target = hash_target\n",
    "\n",
    "    # Creating the genesis block, taking arbitrary previous block hash since there is no previous block\n",
    "    # Using the famous bitcoin genesis block string here :)  \n",
    "    def __create_genesis_block(self):\n",
    "        genesis_block = Block(0, [], 'The Times 03/Jan/2009 Chancellor on brink of second bailout for banks', \n",
    "            None, 'Genesis block using same string as bitcoin!')\n",
    "        return genesis_block\n",
    "\n",
    "    # Creates a new block and appends to the chain\n",
    "    # Also clears the pending transactions as they are part of the new block now\n",
    "    def create_new_block(self):\n",
    "        new_block = Block(len(self._chain), self._pending_transactions, self._chain[-1].block_hash, self._hash_target)\n",
    "        self._chain.append(new_block)\n",
    "        self._pending_transactions = []\n",
    "        return new_block\n",
    "\n",
    "    # Simple transaction with just one sender, one receiver, and one amount data\n",
    "    def create_new_transaction(self, sender, receiver, amount, tx_metadata=''):\n",
    "        new_transaction = {'sender': sender, 'receiver': receiver, 'amount': amount, 'tx_metadata': tx_metadata}\n",
    "        self._pending_transactions.append(new_transaction)\n",
    "\n",
    "    # Blockchain validation function\n",
    "    # Validates that previous block hash stored in each block (except genesis) is equivalent to \n",
    "    # the actual hash of the previous block\n",
    "    # Also validates that each block hash is lower than the block's hash target\n",
    "    def validate_blockchain(self):\n",
    "        for index in range(1, len(self._chain)):\n",
    "            if (self._chain[index].previous_block_hash != self._chain[index - 1].hash_block()):\n",
    "                print(f'Previous block hash mismatch in block index: {index}')\n",
    "                return False\n",
    "\n",
    "            if (int(self._chain[index].hash_block(), 16) >= int(self._chain[index].hash_target, 16)):\n",
    "                print(f'Hash target not achieved in block index: {index}')\n",
    "                return False\n",
    "        return True\n",
    "\n"
   ]
  },
  {
   "cell_type": "markdown",
   "metadata": {
    "id": "1xhOgRhqqbhq"
   },
   "source": [
    "The only change, except for the validation function, is the addition of hash_target at the blockchain level. This will be set based on the current level of difficulty. It is passed to the Block constructor so that each block stores the target at the time it was created. The ongoing target value is regularly changed to ensure consistent throughput, depending on the number of miners, amount of computing power, etc.\n",
    "\n",
    "validate_blockchain is a very basic validation function checking just two things:\n",
    "1. Starting from the first non-genesis block, it checks whether the previous block hash value, saved in the current block, actually matches the calculated hash of the previous block data.\n",
    "2. It calculates the hash of the block and ensures that it was set lower than the hash target of that block during mining. This will only be possible if the miner spent the resources to identify a nonce where this condition is true.\n",
    "\n",
    "\n",
    "## <font color='blue'> Creation and Usage </font>"
   ]
  },
  {
   "cell_type": "code",
   "execution_count": 4,
   "metadata": {
    "id": "41c8CZZKqbhq",
    "outputId": "3f04efb3-5246-4b72-e7af-5d292bfe4f02"
   },
   "outputs": [
    {
     "name": "stdout",
     "output_type": "stream",
     "text": [
      "Chain:\n",
      "[\n",
      "Block index: 0\n",
      "Timestamp: 1630136619.1754634\n",
      "Transactions: []\n",
      "Previous Block Hash: The Times 03/Jan/2009 Chancellor on brink of second bailout for banks\n",
      "Metadata: Genesis block using same string as bitcoin!\n",
      "Hash Target: None\n",
      "Nonce: 0\n",
      "Block Hash: 9cb8a184ac56891a54831b782ddeb9da5d2a7654525815cb648edbc00177bc13\n",
      ", \n",
      "Block index: 1\n",
      "Timestamp: 1630136620.1904697\n",
      "Transactions: [{'sender': 'Alice', 'receiver': 'Bob', 'amount': 20, 'tx_metadata': ''}, {'sender': 'Bob', 'receiver': 'Carol', 'amount': 30, 'tx_metadata': ''}, {'sender': 'Carol', 'receiver': 'Alice', 'amount': 50, 'tx_metadata': ''}]\n",
      "Previous Block Hash: 9cb8a184ac56891a54831b782ddeb9da5d2a7654525815cb648edbc00177bc13\n",
      "Metadata: \n",
      "Hash Target: 00ffffffffffffffffffffffffffffffffffffffffffffffffffffffffffffff\n",
      "Nonce: 25\n",
      "Block Hash: 003748b4db8cb90e69dba135d6a2186fce0b1ce2f98a7e29e2db80e9d72c801f\n",
      ", \n",
      "Block index: 2\n",
      "Timestamp: 1630136621.2028787\n",
      "Transactions: [{'sender': 'Alice', 'receiver': 'Dave', 'amount': 30, 'tx_metadata': ''}, {'sender': 'Dave', 'receiver': 'Carol', 'amount': 34, 'tx_metadata': ''}, {'sender': 'Bob', 'receiver': 'Alice', 'amount': 100, 'tx_metadata': ''}]\n",
      "Previous Block Hash: 003748b4db8cb90e69dba135d6a2186fce0b1ce2f98a7e29e2db80e9d72c801f\n",
      "Metadata: \n",
      "Hash Target: 0000ffffffffffffffffffffffffffffffffffffffffffffffffffffffffffff\n",
      "Nonce: 131493\n",
      "Block Hash: 000057ea642094f39bb8c5568a728184dd6856faaff32c14abebc43ad74440a9\n",
      "]\n",
      "\n",
      "Pending Transactions: [{'sender': 'Alice', 'receiver': 'Carol', 'amount': 46, 'tx_metadata': ''}, {'sender': 'Bob', 'receiver': 'Dave', 'amount': 90, 'tx_metadata': ''}]\n",
      "\n",
      "Validation successful\n"
     ]
    }
   ],
   "source": [
    "if __name__ == \"__main__\":\n",
    "    block_chain = Blockchain('00ffffffffffffffffffffffffffffffffffffffffffffffffffffffffffffff')\n",
    "    time.sleep(1)\n",
    "\n",
    "    block_chain.create_new_transaction('Alice', 'Bob', 20)\n",
    "    block_chain.create_new_transaction('Bob', 'Carol', 30)\n",
    "    block_chain.create_new_transaction('Carol', 'Alice', 50)\n",
    "    block_chain.create_new_block()\n",
    "    time.sleep(1)\n",
    "    \n",
    "    block_chain.hash_target = '0000ffffffffffffffffffffffffffffffffffffffffffffffffffffffffffff'\n",
    "    block_chain.create_new_transaction('Alice', 'Dave', 30)\n",
    "    block_chain.create_new_transaction('Dave', 'Carol', 34)\n",
    "    block_chain.create_new_transaction('Bob', 'Alice', 100)\n",
    "    block_chain.create_new_block()\n",
    "    time.sleep(1)\n",
    "\n",
    "    block_chain.create_new_transaction('Alice', 'Carol', 46)\n",
    "    block_chain.create_new_transaction('Bob', 'Dave', 90)\n",
    "    \n",
    "    print(block_chain)\n",
    "    \n",
    "    validation_result = block_chain.validate_blockchain()\n",
    "    if (validation_result):\n",
    "        print('Validation successful')\n",
    "    else:\n",
    "        print('Validation failed')\n"
   ]
  },
  {
   "cell_type": "markdown",
   "metadata": {
    "id": "VJGuEceNqbhr"
   },
   "source": [
    "The initial hash target is set to '00ffffffffffffffffffffffffffffffffffffffffffffffffffffffffffffff'\n",
    "You can see that it iterated the nonce value multiple times for block 1 before finding a block hash which is lower than the target. It has two zeros at the beginning.\n",
    "\n",
    "Before block 2 creation, we increase the difficulty by reducing the hash target value. It now has four zeros at the beginning. You can compare the nonce value and see that it generally takes many more iterations now, and hence more computing power and time.\n",
    "\n",
    "We also run the validation function which indicates that validation was successful. You can introduce appropriate errors in the code to make it fail.\n",
    "\n",
    "Practical Exercise:\n",
    "1. We are not validating transactions here in terms of amount validation. You can try to add that in the validation code. Starting from the genesis block, you'll have to keep track of the users and keep a running total, for each, to ensure that transactions are valid from that perspective.\n",
    "The actual validation is much more complex primarily because each user's account is essentially a list of UTXOs which they can explicitly set as inputs in a transaction. We are also not signing and validating the signature as of now.\n",
    "\n",
    "2. You'll notice that there is no block reward for mining and no specification for storing who mined a particular block. Add a miner argument while creating a block and store their name. Also, add an automatic transaction to give them a particular reward. This will be a different kind of transaction since cryptocurrency is being generated (equivalent to minting physical money) rather than being transferred from another sender."
   ]
  }
 ],
 "metadata": {
  "colab": {
   "name": "M04W03-01-Basic-Blockchain-With-Mining-And-Validation-Main.ipynb",
   "provenance": []
  },
  "kernelspec": {
   "display_name": "Python 3 (ipykernel)",
   "language": "python",
   "name": "python3"
  },
  "language_info": {
   "codemirror_mode": {
    "name": "ipython",
    "version": 3
   },
   "file_extension": ".py",
   "mimetype": "text/x-python",
   "name": "python",
   "nbconvert_exporter": "python",
   "pygments_lexer": "ipython3",
   "version": "3.10.9"
  }
 },
 "nbformat": 4,
 "nbformat_minor": 4
}
